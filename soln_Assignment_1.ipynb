{
  "metadata": {
    "kernelspec": {
      "language": "python",
      "display_name": "Python 3",
      "name": "python3"
    },
    "language_info": {
      "name": "python",
      "version": "3.7.12",
      "mimetype": "text/x-python",
      "codemirror_mode": {
        "name": "ipython",
        "version": 3
      },
      "pygments_lexer": "ipython3",
      "nbconvert_exporter": "python",
      "file_extension": ".py"
    },
    "colab": {
      "provenance": [],
      "collapsed_sections": [
        "7Sv80hlEMBBx",
        "I7Gga9qyMBBz",
        "D5a2ZPy2MBB1",
        "uOT4gIO5MBB2",
        "gDoZrMKxMBB3",
        "qkK6yM8zMBB4",
        "eW2kZHF2MBB5",
        "3JWpW06sMBB5",
        "sjXLbOxXMBB6",
        "4kgiFnixMBB6",
        "jcsI6ulLMBB7",
        "gh6aj2lvMBB9",
        "A8aUy0tHMBB9",
        "V-EtNtnsMBB9"
      ]
    }
  },
  "nbformat_minor": 0,
  "nbformat": 4,
  "cells": [
    {
      "cell_type": "markdown",
      "source": [
        "# <center> Assignment - 1 Solution (AI4LR)\n",
        "Total Points: 50"
      ],
      "metadata": {
        "id": "CvmMB2DLK8ZE"
      }
    },
    {
      "cell_type": "markdown",
      "source": [
        "### Q1 (2 points)\n",
        "Which of the following statements is used to terminate the statement ?\n",
        "\n",
        "> A. Next\n",
        " \n",
        "> B. Switch\n",
        "\n",
        "> C. Break\n",
        "\n",
        "> D. With\n"
      ],
      "metadata": {
        "id": "7Sv80hlEMBBx"
      }
    },
    {
      "cell_type": "code",
      "source": [
        "# print your answer. for ex if your answer is B\n",
        "# print(\"B\")\n",
        "\n",
        "print(\"C\")"
      ],
      "metadata": {
        "execution": {
          "iopub.status.busy": "2021-12-30T12:56:45.861941Z",
          "iopub.execute_input": "2021-12-30T12:56:45.862246Z",
          "iopub.status.idle": "2021-12-30T12:56:45.867215Z",
          "shell.execute_reply.started": "2021-12-30T12:56:45.862215Z",
          "shell.execute_reply": "2021-12-30T12:56:45.866353Z"
        },
        "trusted": true,
        "id": "AfgvicjUMBBy",
        "colab": {
          "base_uri": "https://localhost:8080/"
        },
        "outputId": "cf1c1578-2b45-4f9f-da80-7111f2e4fa1b"
      },
      "execution_count": null,
      "outputs": [
        {
          "output_type": "stream",
          "name": "stdout",
          "text": [
            "C\n"
          ]
        }
      ]
    },
    {
      "cell_type": "markdown",
      "source": [
        "### Q2 (2 points)\n",
        "For the below code, specify the datatype of variable X,\n",
        "\n",
        "X = 'achgd7698'\n",
        "\n",
        "> A. Complex \n",
        "\n",
        "> B. String \n",
        "\n",
        "> C. Integer\n",
        "\n",
        "> D. Boolean\n"
      ],
      "metadata": {
        "id": "I7Gga9qyMBBz"
      }
    },
    {
      "cell_type": "code",
      "source": [
        "# print your answer.\n",
        "print(\"B\")"
      ],
      "metadata": {
        "id": "RKU1-4p6MBB0"
      },
      "execution_count": null,
      "outputs": []
    },
    {
      "cell_type": "markdown",
      "source": [
        "### Q3 (2 points)\n",
        "Consider the if-elseif-else statement, how many elseif are possible between if and else statements?\n",
        "\n",
        "> A. 1\n",
        "\n",
        "> B. 0\n",
        "\n",
        "> C. Multiple\n",
        "\n",
        "> D. None of the above\n"
      ],
      "metadata": {
        "id": "D5a2ZPy2MBB1"
      }
    },
    {
      "cell_type": "code",
      "source": [
        "# print your answer.\n",
        "\n",
        "print(\"C\")"
      ],
      "metadata": {
        "id": "mEKIS0KHMBB1"
      },
      "execution_count": null,
      "outputs": []
    },
    {
      "cell_type": "markdown",
      "source": [
        "### Q4 (2 points)\n",
        "What will be the data type of variable 'C' after executing this code ?\n",
        "\n",
        "A = 5\n",
        "\n",
        "B = 6\n",
        "\n",
        "C = print(A/B)\n",
        " \n",
        "> A. Float\n",
        "\n",
        "> B. None-type\n",
        "\n",
        "> C. Int\n",
        "\n",
        "> D. Object\n"
      ],
      "metadata": {
        "id": "uOT4gIO5MBB2"
      }
    },
    {
      "cell_type": "code",
      "source": [
        "# print your answer.\n",
        "\n",
        "print(\"B\") \n",
        "\n",
        "# For those of you who had written float, check the code below\n",
        "print(type(print(5/6)))"
      ],
      "metadata": {
        "id": "qHc66_slMBB3",
        "colab": {
          "base_uri": "https://localhost:8080/"
        },
        "outputId": "c072dbf8-6621-4fe5-f9b8-b5075a220611"
      },
      "execution_count": null,
      "outputs": [
        {
          "output_type": "stream",
          "name": "stdout",
          "text": [
            "B\n",
            "0.8333333333333334\n",
            "<class 'NoneType'>\n"
          ]
        }
      ]
    },
    {
      "cell_type": "markdown",
      "source": [
        "### Q5 (5 points)\n",
        "Write a function that takes any number N as input and returns the square of that number."
      ],
      "metadata": {
        "id": "gDoZrMKxMBB3"
      }
    },
    {
      "cell_type": "code",
      "source": [
        "## complete the code below\n",
        "\n",
        "# Defining a function to square any number that is passed as an input\n",
        "def square(N):\n",
        "    return N**2\n",
        "\n",
        "# Take user input of any number they would like to square\n",
        "N = float(input(\"Enter the number you want to square:- \")) # Converting int to float to not limit our calculator to only integers!\n",
        "\n",
        "# An extra step to just ensure good looking output for integer inputs \n",
        "print(\"The square of\", int(N), \"is:-\", int(square(N))) if N.is_integer() else print(\"The square of\", N, \"is:-\", '%.3g' % square(N), '(3sf)')  # Try searching what .3g does to square(N) value"
      ],
      "metadata": {
        "execution": {
          "iopub.status.busy": "2021-12-30T13:14:52.170290Z",
          "iopub.execute_input": "2021-12-30T13:14:52.170795Z",
          "iopub.status.idle": "2021-12-30T13:14:56.494996Z",
          "shell.execute_reply.started": "2021-12-30T13:14:52.170761Z",
          "shell.execute_reply": "2021-12-30T13:14:56.494467Z"
        },
        "trusted": true,
        "id": "LmFDV1hSMBB3",
        "colab": {
          "base_uri": "https://localhost:8080/"
        },
        "outputId": "ff662954-330c-489b-d872-5c0a1c36a0cd"
      },
      "execution_count": 54,
      "outputs": [
        {
          "output_type": "stream",
          "name": "stdout",
          "text": [
            "Enter the number you want to square:- 2.308\n",
            "The square of 2.308 is:- 5.33 (3sf)\n"
          ]
        }
      ]
    },
    {
      "cell_type": "markdown",
      "source": [
        "### Q6 (8 points)\n",
        "Write a program which will find all such numbers which are divisible by 7 but are not a multiple of 5,\n",
        "between 2000 and 3200 (both included). \n",
        "The numbers obtained should be printed in a comma-separated sequence on a single line."
      ],
      "metadata": {
        "id": "qkK6yM8zMBB4"
      }
    },
    {
      "cell_type": "code",
      "source": [
        "# write your solution here\n",
        "\n",
        "# Using list comprehension / could have also used generator expression (Google it if interested!)\n",
        "print(*[i for i in range(2000, 3201) if i%5 and not i%7], sep = ', ')    # i%5 means i%5 == 1 (not divisible by 5) and not i%7 means i%7 == 0 (divisible by 7)"
      ],
      "metadata": {
        "execution": {
          "iopub.status.busy": "2021-12-30T13:18:00.146388Z",
          "iopub.execute_input": "2021-12-30T13:18:00.146749Z",
          "iopub.status.idle": "2021-12-30T13:18:00.150072Z",
          "shell.execute_reply.started": "2021-12-30T13:18:00.146710Z",
          "shell.execute_reply": "2021-12-30T13:18:00.149479Z"
        },
        "trusted": true,
        "id": "5I3wZuJ5MBB4",
        "colab": {
          "base_uri": "https://localhost:8080/"
        },
        "outputId": "94c445e7-d6c9-4c23-e9a8-b6ccf15657a6"
      },
      "execution_count": null,
      "outputs": [
        {
          "output_type": "stream",
          "name": "stdout",
          "text": [
            "2002, 2009, 2016, 2023, 2037, 2044, 2051, 2058, 2072, 2079, 2086, 2093, 2107, 2114, 2121, 2128, 2142, 2149, 2156, 2163, 2177, 2184, 2191, 2198, 2212, 2219, 2226, 2233, 2247, 2254, 2261, 2268, 2282, 2289, 2296, 2303, 2317, 2324, 2331, 2338, 2352, 2359, 2366, 2373, 2387, 2394, 2401, 2408, 2422, 2429, 2436, 2443, 2457, 2464, 2471, 2478, 2492, 2499, 2506, 2513, 2527, 2534, 2541, 2548, 2562, 2569, 2576, 2583, 2597, 2604, 2611, 2618, 2632, 2639, 2646, 2653, 2667, 2674, 2681, 2688, 2702, 2709, 2716, 2723, 2737, 2744, 2751, 2758, 2772, 2779, 2786, 2793, 2807, 2814, 2821, 2828, 2842, 2849, 2856, 2863, 2877, 2884, 2891, 2898, 2912, 2919, 2926, 2933, 2947, 2954, 2961, 2968, 2982, 2989, 2996, 3003, 3017, 3024, 3031, 3038, 3052, 3059, 3066, 3073, 3087, 3094, 3101, 3108, 3122, 3129, 3136, 3143, 3157, 3164, 3171, 3178, 3192, 3199\n"
          ]
        }
      ]
    },
    {
      "cell_type": "markdown",
      "source": [
        "### Q7 (5 points)\n",
        "Write a Python program to accept the user's first and last name and then get them printed in the reverse order with a space between first name and last name."
      ],
      "metadata": {
        "id": "eW2kZHF2MBB5"
      }
    },
    {
      "cell_type": "code",
      "source": [
        "# write your code here\n",
        "\n",
        "first_name = input(\"Enter your first name:- \")\n",
        "last_name = input(\"Enter your last name:- \")\n",
        "\n",
        "# Allowed possible solutions with space in between ~ \n",
        "\n",
        "'''Note that .capitlaize() makes the first letter of the word capital and rest all are smaller'''\n",
        "\n",
        "print('\\nPossible Solutions ~ ')\n",
        "\n",
        "# 1 - Reversing order of first and last name\n",
        "print(last_name.capitalize(), first_name.capitalize())\n",
        "\n",
        "# 2 - Reversing each string without flipping the order \n",
        "print(first_name[::-1].capitalize(), last_name[::-1].capitalize())\n",
        "\n",
        "# 3 - Reversing each string along with flipping the order\n",
        "print(last_name[::-1].capitalize(), first_name[::-1].capitalize())"
      ],
      "metadata": {
        "id": "73ejcwgVMBB5",
        "colab": {
          "base_uri": "https://localhost:8080/"
        },
        "outputId": "c2a1a1de-13b3-4073-b3c9-6b7e9db12e91"
      },
      "execution_count": null,
      "outputs": [
        {
          "output_type": "stream",
          "name": "stdout",
          "text": [
            "Enter your first name:- kulfi\n",
            "Enter your last name:- shah\n",
            "\n",
            "Possible Solutions ~ \n",
            "Shah Kulfi\n",
            "Ifluk Hahs\n",
            "Hahs Ifluk\n"
          ]
        }
      ]
    },
    {
      "cell_type": "markdown",
      "source": [
        "### Q8 (3 points)\n",
        "Given this given nested list, use indexing to grab and print the word \"hello\".\n"
      ],
      "metadata": {
        "id": "3JWpW06sMBB5"
      }
    },
    {
      "cell_type": "code",
      "source": [
        "lst = [1,2,[3,4],[5,[100,200,['hello']],23,11],1,7]\n",
        "\n",
        "# print the word 'hello' using list indexing \n",
        "print(lst[3][1][2][0])"
      ],
      "metadata": {
        "execution": {
          "iopub.status.busy": "2021-12-30T13:24:15.569584Z",
          "iopub.execute_input": "2021-12-30T13:24:15.570340Z",
          "iopub.status.idle": "2021-12-30T13:24:15.575669Z",
          "shell.execute_reply.started": "2021-12-30T13:24:15.570297Z",
          "shell.execute_reply": "2021-12-30T13:24:15.574960Z"
        },
        "trusted": true,
        "id": "yu65O8BEMBB6",
        "colab": {
          "base_uri": "https://localhost:8080/"
        },
        "outputId": "fca32b16-b7fd-453d-d6ba-bb51f7f93602"
      },
      "execution_count": null,
      "outputs": [
        {
          "output_type": "stream",
          "name": "stdout",
          "text": [
            "hello\n"
          ]
        }
      ]
    },
    {
      "cell_type": "markdown",
      "source": [
        "### Q9 (3 points)\n",
        "Write a program to get the index of 'abc' in the list a =['bca', 'cba', 'abc']\n"
      ],
      "metadata": {
        "id": "sjXLbOxXMBB6"
      }
    },
    {
      "cell_type": "code",
      "source": [
        "#Write your program here and print index as the output\n",
        "\n",
        "# Creating own function to get index\n",
        "def index(ele, lst):\n",
        "  '''ele - element of the list lst\n",
        "  lst - list to check if element is prenent'''\n",
        "  print(*[i for i,v in enumerate(lst) if v==ele]) if ele in lst else print(f\"{ele} not in {lst}\")\n",
        "  '''returns index of the element if present in the list else prints that given element is not present in the list provided'''\n",
        "\n",
        "# Copy - Paste list given in question\n",
        "a =['bca', 'cba', 'abc']\n",
        "print(\"Index of 'abc' in list of a:- \")\n",
        "index('abc', a)     # Call the function\n",
        "\n",
        "# or could use inbuilt method .index()\n",
        "a.index('abc')"
      ],
      "metadata": {
        "id": "J5Vbkz-gMBB6",
        "colab": {
          "base_uri": "https://localhost:8080/"
        },
        "outputId": "cbc72445-699f-4952-e145-35949eb3dfb8"
      },
      "execution_count": null,
      "outputs": [
        {
          "output_type": "stream",
          "name": "stdout",
          "text": [
            "Index of 'abc' in list of a:- \n",
            "2\n"
          ]
        },
        {
          "output_type": "execute_result",
          "data": {
            "text/plain": [
              "2"
            ]
          },
          "metadata": {},
          "execution_count": 91
        }
      ]
    },
    {
      "cell_type": "markdown",
      "source": [
        "### Q10 (5 points)\n",
        "Write a program to print the following using while loop\n",
        "\n",
        "> a. First 10 Even numbers\n",
        "\n",
        "> b. First 10 Odd numbers\n"
      ],
      "metadata": {
        "id": "4kgiFnixMBB6"
      }
    },
    {
      "cell_type": "code",
      "source": [
        "while True:\n",
        "  print(\"First 10 even number:-\", *range(2, 21, 2), sep= '\\n')\n",
        "  print(\"\\nFirst 10 odd numbers:-\", *range(1, 21, 2), sep = '\\n')\n",
        "  break"
      ],
      "metadata": {
        "execution": {
          "iopub.status.busy": "2021-12-30T13:31:07.761618Z",
          "iopub.execute_input": "2021-12-30T13:31:07.762045Z",
          "iopub.status.idle": "2021-12-30T13:31:07.767551Z",
          "shell.execute_reply.started": "2021-12-30T13:31:07.762013Z",
          "shell.execute_reply": "2021-12-30T13:31:07.766669Z"
        },
        "trusted": true,
        "id": "_2VGjdWqMBB7",
        "colab": {
          "base_uri": "https://localhost:8080/"
        },
        "outputId": "009ad4bf-5a62-4c16-9bb5-c5b5a3a09de6"
      },
      "execution_count": 56,
      "outputs": [
        {
          "output_type": "stream",
          "name": "stdout",
          "text": [
            "First 10 even number:-\n",
            "2\n",
            "4\n",
            "6\n",
            "8\n",
            "10\n",
            "12\n",
            "14\n",
            "16\n",
            "18\n",
            "20\n",
            "\n",
            "First 10 odd numbers:-\n",
            "1\n",
            "3\n",
            "5\n",
            "7\n",
            "9\n",
            "11\n",
            "13\n",
            "15\n",
            "17\n",
            "19\n"
          ]
        }
      ]
    },
    {
      "cell_type": "markdown",
      "source": [
        "### Q11 (3 points)\n",
        "For the given program\n",
        "\n",
        "\n",
        "```\n",
        "number = 5\n",
        "while number <= 5:\n",
        "    if number < 5:\n",
        "        number = number + 1\n",
        "    print(number)\n",
        "```\n",
        "\n",
        "\n",
        "\n",
        "* A. The program will loop indefinitely\n",
        "* B. The value of number will be printed exactly 1 time\n",
        "* C. The while loop will never get executed\n",
        "* D. The value of number will be printed exactly 5 times\n"
      ],
      "metadata": {
        "id": "jcsI6ulLMBB7"
      }
    },
    {
      "cell_type": "code",
      "source": [
        "# print your answer here\n",
        "\n",
        "print(\"A\")"
      ],
      "metadata": {
        "execution": {
          "iopub.status.busy": "2021-12-30T13:38:10.278884Z",
          "iopub.execute_input": "2021-12-30T13:38:10.279245Z",
          "iopub.status.idle": "2021-12-30T13:38:10.284062Z",
          "shell.execute_reply.started": "2021-12-30T13:38:10.279210Z",
          "shell.execute_reply": "2021-12-30T13:38:10.283092Z"
        },
        "trusted": true,
        "id": "IfADTUT2MBB8",
        "colab": {
          "base_uri": "https://localhost:8080/"
        },
        "outputId": "94fcf75a-80b3-4966-c5ab-b35041df3686"
      },
      "execution_count": null,
      "outputs": [
        {
          "output_type": "stream",
          "name": "stdout",
          "text": [
            "A\n"
          ]
        }
      ]
    }
  ]
}
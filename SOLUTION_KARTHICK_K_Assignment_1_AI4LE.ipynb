{
  "metadata": {
    "kernelspec": {
      "language": "python",
      "display_name": "Python 3",
      "name": "python3"
    },
    "language_info": {
      "name": "python",
      "version": "3.7.12",
      "mimetype": "text/x-python",
      "codemirror_mode": {
        "name": "ipython",
        "version": 3
      },
      "pygments_lexer": "ipython3",
      "nbconvert_exporter": "python",
      "file_extension": ".py"
    },
    "colab": {
      "provenance": [],
      "collapsed_sections": []
    }
  },
  "nbformat_minor": 0,
  "nbformat": 4,
  "cells": [
    {
      "cell_type": "markdown",
      "source": [
        "# <center> Assignment-1 (AI4LR)\n",
        "Total Points: 50"
      ],
      "metadata": {
        "id": "CvmMB2DLK8ZE"
      }
    },
    {
      "cell_type": "code",
      "source": [
        "Your_Name = \" Karthick k \"\n",
        "Your_Email_id = \" karthi.13light@gmail.com \""
      ],
      "metadata": {
        "id": "OCuwC_CTLSOk"
      },
      "execution_count": null,
      "outputs": []
    },
    {
      "cell_type": "markdown",
      "source": [
        "### Q1 (2 points)\n",
        "Which of the following statements is used to terminate the statement ?\n",
        "\n",
        "> A. Next\n",
        " \n",
        "> B. Switch\n",
        "\n",
        "> C. Break\n",
        "\n",
        "> D. With\n"
      ],
      "metadata": {
        "id": "7Sv80hlEMBBx"
      }
    },
    {
      "cell_type": "code",
      "source": [
        "# print your answer. for ex if your answer is B\n",
        "# print(\"B\")\n",
        "\n",
        "print(\"C\")"
      ],
      "metadata": {
        "execution": {
          "iopub.status.busy": "2021-12-30T12:56:45.861941Z",
          "iopub.execute_input": "2021-12-30T12:56:45.862246Z",
          "iopub.status.idle": "2021-12-30T12:56:45.867215Z",
          "shell.execute_reply.started": "2021-12-30T12:56:45.862215Z",
          "shell.execute_reply": "2021-12-30T12:56:45.866353Z"
        },
        "trusted": true,
        "id": "AfgvicjUMBBy",
        "colab": {
          "base_uri": "https://localhost:8080/"
        },
        "outputId": "df21bbbb-a04d-49bc-96ec-992c60434d9d"
      },
      "execution_count": null,
      "outputs": [
        {
          "output_type": "stream",
          "name": "stdout",
          "text": [
            "C\n"
          ]
        }
      ]
    },
    {
      "cell_type": "markdown",
      "source": [
        "### Q2 (2 points)\n",
        "For the below code, specify the datatype of variable X,\n",
        "\n",
        "X = 'achgd7698'\n",
        "\n",
        "> A. Complex \n",
        "\n",
        "> B. String \n",
        "\n",
        "> C. Integer\n",
        "\n",
        "> D. Boolean\n"
      ],
      "metadata": {
        "id": "I7Gga9qyMBBz"
      }
    },
    {
      "cell_type": "code",
      "source": [
        "# print your answer.\n",
        "print(\"B\")"
      ],
      "metadata": {
        "id": "RKU1-4p6MBB0",
        "colab": {
          "base_uri": "https://localhost:8080/"
        },
        "outputId": "9d25ee83-0211-4ee8-9e96-47a96c0a4d16"
      },
      "execution_count": null,
      "outputs": [
        {
          "output_type": "stream",
          "name": "stdout",
          "text": [
            "B\n"
          ]
        }
      ]
    },
    {
      "cell_type": "markdown",
      "source": [
        "### Q3 (2 points)\n",
        "Consider the if-elseif-else statement, how many elseif are possible between if and else statements?\n",
        "\n",
        "> A. 1\n",
        "\n",
        "> B. 0\n",
        "\n",
        "> C. Multiple\n",
        "\n",
        "> D. None of the above\n"
      ],
      "metadata": {
        "id": "D5a2ZPy2MBB1"
      }
    },
    {
      "cell_type": "code",
      "source": [
        "# print your answer.\n",
        "\n",
        "print(\"C\")"
      ],
      "metadata": {
        "id": "mEKIS0KHMBB1",
        "colab": {
          "base_uri": "https://localhost:8080/"
        },
        "outputId": "d1991dcb-005e-4450-9fcf-8a6d0f3ee6d6"
      },
      "execution_count": null,
      "outputs": [
        {
          "output_type": "stream",
          "name": "stdout",
          "text": [
            "C\n"
          ]
        }
      ]
    },
    {
      "cell_type": "markdown",
      "source": [
        "### Q4 (2 points)\n",
        "What will be the data type of variable 'C' after executing this code ?\n",
        "\n",
        "A = 5\n",
        "\n",
        "B = 6\n",
        "\n",
        "C = print(A/B)\n",
        " \n",
        "> A. Float\n",
        "\n",
        "> B. None-type\n",
        "\n",
        "> C. Int\n",
        "\n",
        "> D. Object\n"
      ],
      "metadata": {
        "id": "uOT4gIO5MBB2"
      }
    },
    {
      "cell_type": "code",
      "source": [
        "# print your answer.\n",
        "\n",
        "print(\"A\")"
      ],
      "metadata": {
        "id": "qHc66_slMBB3",
        "colab": {
          "base_uri": "https://localhost:8080/"
        },
        "outputId": "f147a42c-c481-4888-fcc6-9ed2c8a65156"
      },
      "execution_count": null,
      "outputs": [
        {
          "output_type": "stream",
          "name": "stdout",
          "text": [
            "A\n"
          ]
        }
      ]
    },
    {
      "cell_type": "markdown",
      "source": [
        "### Q5 (5 points)\n",
        "Write a function that takes any number N as input and returns the square of that number."
      ],
      "metadata": {
        "id": "gDoZrMKxMBB3"
      }
    },
    {
      "cell_type": "code",
      "source": [
        "# complete the code below\n",
        "\n",
        "def fibonacci(N):\n",
        "    N = N ** 2\n",
        "    return N\n",
        "N = int(input())\n",
        "print(\"The square of N is: \", fibonacci(N))"
      ],
      "metadata": {
        "execution": {
          "iopub.status.busy": "2021-12-30T13:14:52.170290Z",
          "iopub.execute_input": "2021-12-30T13:14:52.170795Z",
          "iopub.status.idle": "2021-12-30T13:14:56.494996Z",
          "shell.execute_reply.started": "2021-12-30T13:14:52.170761Z",
          "shell.execute_reply": "2021-12-30T13:14:56.494467Z"
        },
        "trusted": true,
        "id": "LmFDV1hSMBB3",
        "colab": {
          "base_uri": "https://localhost:8080/"
        },
        "outputId": "4e2414e4-8d9e-44fd-dfc0-21fe76b52dd2"
      },
      "execution_count": null,
      "outputs": [
        {
          "output_type": "stream",
          "name": "stdout",
          "text": [
            "5\n",
            "The square of N is:  25\n"
          ]
        }
      ]
    },
    {
      "cell_type": "markdown",
      "source": [
        "### Q6 (8 points)\n",
        "Write a program which will find all such numbers which are divisible by 7 but are not a multiple of 5,\n",
        "between 2000 and 3200 (both included). \n",
        "The numbers obtained should be printed in a comma-separated sequence on a single line."
      ],
      "metadata": {
        "id": "qkK6yM8zMBB4"
      }
    },
    {
      "cell_type": "code",
      "source": [
        "# write your solution here\n",
        "NUM = []\n",
        "for x in range(2000,3200):\n",
        "  if(x%7==0) and (x%5!=0):\n",
        "    NUM.append(str(x))\n",
        "print(','.join(NUM))"
      ],
      "metadata": {
        "execution": {
          "iopub.status.busy": "2021-12-30T13:18:00.146388Z",
          "iopub.execute_input": "2021-12-30T13:18:00.146749Z",
          "iopub.status.idle": "2021-12-30T13:18:00.150072Z",
          "shell.execute_reply.started": "2021-12-30T13:18:00.146710Z",
          "shell.execute_reply": "2021-12-30T13:18:00.149479Z"
        },
        "trusted": true,
        "id": "5I3wZuJ5MBB4",
        "colab": {
          "base_uri": "https://localhost:8080/"
        },
        "outputId": "a080024e-98a1-4c34-f3f9-a505fb2919e0"
      },
      "execution_count": null,
      "outputs": [
        {
          "output_type": "stream",
          "name": "stdout",
          "text": [
            "2002,2009,2016,2023,2037,2044,2051,2058,2072,2079,2086,2093,2107,2114,2121,2128,2142,2149,2156,2163,2177,2184,2191,2198,2212,2219,2226,2233,2247,2254,2261,2268,2282,2289,2296,2303,2317,2324,2331,2338,2352,2359,2366,2373,2387,2394,2401,2408,2422,2429,2436,2443,2457,2464,2471,2478,2492,2499,2506,2513,2527,2534,2541,2548,2562,2569,2576,2583,2597,2604,2611,2618,2632,2639,2646,2653,2667,2674,2681,2688,2702,2709,2716,2723,2737,2744,2751,2758,2772,2779,2786,2793,2807,2814,2821,2828,2842,2849,2856,2863,2877,2884,2891,2898,2912,2919,2926,2933,2947,2954,2961,2968,2982,2989,2996,3003,3017,3024,3031,3038,3052,3059,3066,3073,3087,3094,3101,3108,3122,3129,3136,3143,3157,3164,3171,3178,3192,3199\n"
          ]
        }
      ]
    },
    {
      "cell_type": "markdown",
      "source": [
        "### Q7 (5 points)\n",
        "Write a Python program to accept the user's first and last name and then get them printed in the reverse order with a space between first name and last name."
      ],
      "metadata": {
        "id": "eW2kZHF2MBB5"
      }
    },
    {
      "cell_type": "code",
      "source": [
        "# write your code here\n",
        "first_name = input()\n",
        "last_name = input()\n",
        "x  = ( first_name +\" \"+ last_name ) [::-1]\n",
        "print(x)"
      ],
      "metadata": {
        "id": "73ejcwgVMBB5",
        "colab": {
          "base_uri": "https://localhost:8080/"
        },
        "outputId": "6c68d85a-010b-4c26-9442-2aef1091a15e"
      },
      "execution_count": null,
      "outputs": [
        {
          "output_type": "stream",
          "name": "stdout",
          "text": [
            "Mrunal\n",
            "Thakur\n",
            "rukahT lanurM\n"
          ]
        }
      ]
    },
    {
      "cell_type": "markdown",
      "source": [
        "### Q8 (3 points)\n",
        "Given this given nested list, use indexing to grab and print the word \"hello\".\n"
      ],
      "metadata": {
        "id": "3JWpW06sMBB5"
      }
    },
    {
      "cell_type": "code",
      "source": [
        "lst = [1,2,[3,4],[5,[100,200,['hello']],23,11],1,7]\n",
        "\n",
        "# print the word 'hello' using list indexing \n",
        "print(lst[3][1][2])"
      ],
      "metadata": {
        "execution": {
          "iopub.status.busy": "2021-12-30T13:24:15.569584Z",
          "iopub.execute_input": "2021-12-30T13:24:15.570340Z",
          "iopub.status.idle": "2021-12-30T13:24:15.575669Z",
          "shell.execute_reply.started": "2021-12-30T13:24:15.570297Z",
          "shell.execute_reply": "2021-12-30T13:24:15.574960Z"
        },
        "trusted": true,
        "id": "yu65O8BEMBB6",
        "colab": {
          "base_uri": "https://localhost:8080/"
        },
        "outputId": "8f3b2669-ac39-45cb-fdc2-43427e13a612"
      },
      "execution_count": 1,
      "outputs": [
        {
          "output_type": "stream",
          "name": "stdout",
          "text": [
            "['hello']\n"
          ]
        }
      ]
    },
    {
      "cell_type": "markdown",
      "source": [
        "### Q9 (3 points)\n",
        "Write a program to get the index of 'abc' in the list a =['bca', 'cba', 'abc']\n"
      ],
      "metadata": {
        "id": "sjXLbOxXMBB6"
      }
    },
    {
      "cell_type": "code",
      "source": [
        "#Write your program here and print index as the output\n",
        "a =['bca', 'cba', 'abc']\n",
        "b = a.index('abc')\n",
        "print(b)"
      ],
      "metadata": {
        "id": "J5Vbkz-gMBB6",
        "colab": {
          "base_uri": "https://localhost:8080/"
        },
        "outputId": "d13303b1-fc23-4909-bb57-bb387e0bd920"
      },
      "execution_count": 4,
      "outputs": [
        {
          "output_type": "stream",
          "name": "stdout",
          "text": [
            "2\n"
          ]
        }
      ]
    },
    {
      "cell_type": "markdown",
      "source": [
        "### Q10 (5 points)\n",
        "Write a program to print the following using while loop\n",
        "\n",
        "> a. First 10 Even numbers\n",
        "\n",
        "> b. First 10 Odd numbers\n"
      ],
      "metadata": {
        "id": "4kgiFnixMBB6"
      }
    },
    {
      "cell_type": "code",
      "source": [
        "x = 20\n",
        "print(\"First 10 Even numbers\")\n",
        "i = 1\n",
        "while i <= x :\n",
        "  if i % 2 == 0:\n",
        "    print(i, end=\" \")\n",
        "  i = i + 1\n",
        "print(\"\\n\")\n",
        "y = 20\n",
        "print(\"First 10 Odd numbers\")\n",
        "i = 1\n",
        "while i <= y :\n",
        "  if i % 2 != 0:\n",
        "    print(i, end=\" \")\n",
        "  i = i + 1\n",
        "  "
      ],
      "metadata": {
        "execution": {
          "iopub.status.busy": "2021-12-30T13:31:07.761618Z",
          "iopub.execute_input": "2021-12-30T13:31:07.762045Z",
          "iopub.status.idle": "2021-12-30T13:31:07.767551Z",
          "shell.execute_reply.started": "2021-12-30T13:31:07.762013Z",
          "shell.execute_reply": "2021-12-30T13:31:07.766669Z"
        },
        "trusted": true,
        "id": "_2VGjdWqMBB7",
        "colab": {
          "base_uri": "https://localhost:8080/"
        },
        "outputId": "6c6223c3-d94e-4fdf-d042-0f3ca0cf65d2"
      },
      "execution_count": 16,
      "outputs": [
        {
          "output_type": "stream",
          "name": "stdout",
          "text": [
            "First 10 Even numbers\n",
            "2 4 6 8 10 12 14 16 18 20 \n",
            "\n",
            "First 10 Odd numbers\n",
            "1 3 5 7 9 11 13 15 17 19 "
          ]
        }
      ]
    },
    {
      "cell_type": "markdown",
      "source": [
        "### Q11 (3 points)\n",
        "For the given program\n",
        "\n",
        "\n",
        "```\n",
        "number = 5\n",
        "while number <= 5:\n",
        "    if number < 5:\n",
        "        number = number + 1\n",
        "    print(number)\n",
        "```\n",
        "\n",
        "\n",
        "\n",
        "* A. The program will loop indefinitely\n",
        "* B. The value of number will be printed exactly 1 time\n",
        "* C. The while loop will never get executed\n",
        "* D. The value of number will be printed exactly 5 times\n"
      ],
      "metadata": {
        "id": "jcsI6ulLMBB7"
      }
    },
    {
      "cell_type": "code",
      "source": [
        "# print your answer here\n",
        "print(\"A\")"
      ],
      "metadata": {
        "execution": {
          "iopub.status.busy": "2021-12-30T13:38:10.278884Z",
          "iopub.execute_input": "2021-12-30T13:38:10.279245Z",
          "iopub.status.idle": "2021-12-30T13:38:10.284062Z",
          "shell.execute_reply.started": "2021-12-30T13:38:10.279210Z",
          "shell.execute_reply": "2021-12-30T13:38:10.283092Z"
        },
        "trusted": true,
        "id": "IfADTUT2MBB8",
        "colab": {
          "base_uri": "https://localhost:8080/"
        },
        "outputId": "2c061daa-cee8-4a39-b5a8-23bd41853029"
      },
      "execution_count": 15,
      "outputs": [
        {
          "output_type": "stream",
          "name": "stdout",
          "text": [
            "A\n"
          ]
        }
      ]
    },
    {
      "cell_type": "markdown",
      "source": [
        "### Q12 (5 points)\n",
        "\n",
        "Share your views on the upcoming Moon Missions. Do you think ISRO will succed with Chandrayaan-3? (Explain in Atleast 100 words) "
      ],
      "metadata": {
        "id": "gh6aj2lvMBB9"
      }
    },
    {
      "cell_type": "code",
      "source": [
        "# print your answer\n",
        "\n",
        "my_answer = \"\"\"It is second attempt for India to launch Lander and rover in South Pole of moon. \n",
        "Till now, none of the country sent their robots to that pole. Chandrayaan 3, the program is another attempt to succeed the significance of Chandrayaan 2. \n",
        "This mission will test the ISRO for landing on moon and once successful will make the way to interplanetary missions. \n",
        "Main in Chandrayaan 3, there is no more orbiter in this mission. Only Lander and rover are launched using GSLV mk 3. \n",
        "Its job will only be confined to carry the Lander to South Pole of the moon, oversee the land in from its orbit. \n",
        "Failure is step to success, last time communication failure made them not to achieve goal. \n",
        "This time isro learnt a lesson in communication part and they will upgrade and sure will get success. Hard work never fails.\"\"\"\n",
        "print(my_answer)\n",
        "words = my_answer.split()\n",
        "num_of_words = len(words)\n",
        "print(\"\\n\")\n",
        "print(f\"The number of words used in above paragraph is {num_of_words}\")"
      ],
      "metadata": {
        "id": "Y9DCT-ZJMBB9",
        "colab": {
          "base_uri": "https://localhost:8080/"
        },
        "outputId": "2ec08100-82ab-40a4-d4e1-f752ec2744ac"
      },
      "execution_count": 18,
      "outputs": [
        {
          "output_type": "stream",
          "name": "stdout",
          "text": [
            "It is second attempt for India to launch Lander and rover in South Pole of moon. \n",
            "Till now, none of the country sent their robots to that pole. Chandrayaan 3, the program is another attempt to succeed the significance of Chandrayaan 2. \n",
            "This mission will test the ISRO for landing on moon and once successful will make the way to interplanetary missions. \n",
            "Main in Chandrayaan 3, there is no more orbiter in this mission. Only Lander and rover are launched using GSLV mk 3. \n",
            "Its job will only be confined to carry the Lander to South Pole of the moon, oversee the land in from its orbit. \n",
            "Failure is step to success, last time communication failure made them not to achieve goal. \n",
            "This time isro learnt a lesson in communication part and they will upgrade and sure will get success. Hard work never fails.\n",
            "\n",
            "\n",
            "The number of words used in above paragraph is 144\n"
          ]
        }
      ]
    },
    {
      "cell_type": "markdown",
      "source": [
        "### Q13 (5 points)\n",
        "\n",
        "Describe your experience while learning python so far. Now that you are somewhat familiar with this tool, can you name some more use cases and examples where we can use python. (Atleast 150 words)"
      ],
      "metadata": {
        "id": "A8aUy0tHMBB9"
      }
    },
    {
      "cell_type": "code",
      "source": [
        "# print your answer\n",
        "\n",
        "my_answer = \"\"\"Python is interesting object oriented programming language. \n",
        "It widely accessed easily because of its inbuilt functions and normal English words like, def, input(), len(), str etc. anyone can learn easily. \n",
        "It is used in scientific research, web development (django,flask) , machine learning applications etc. \n",
        "it has lot of libraries ,where each library has variety of functions like numpy , math etc. In real world, everywhere we can use python. \n",
        "Let we see a real time example of using python , most ecommerce website will have details about products from various manufacturer websites like HP laptop , specifications are taken from manufacturer website with respective part number. \n",
        "Method called web scrapping, where a code is written in python language and use to take information from respective websites in minutes. \n",
        "It is time saving method rather than copy and paste. Web scrappers will use libraries like BEUATIFULSOUP, SCRAPPY, SELENIUM in python to scarp all required things from various websites automatically. \n",
        "It is majorly used in data science applications , to predict required things like corona virus spreading calculation and stock market prediction. \"\"\"\n",
        "print(my_answer)\n",
        "words = my_answer.split()\n",
        "num_of_words = len(words)\n",
        "print(\"\\n\")\n",
        "print(f\"The number of words used in above paragraph is {num_of_words}\")"
      ],
      "metadata": {
        "id": "OvZrki2iMBB9",
        "colab": {
          "base_uri": "https://localhost:8080/"
        },
        "outputId": "6f685192-3942-4902-af9d-57e40c6d07cd"
      },
      "execution_count": null,
      "outputs": [
        {
          "output_type": "stream",
          "name": "stdout",
          "text": [
            "Python is interesting object oriented programming language. \n",
            "It widely accessed easily because of its inbuilt functions and normal English words like, def, input(), len(), str etc. anyone can learn easily. \n",
            "It is used in scientific research, web development (django,flask) , machine learning applications etc. \n",
            "it has lot of libraries ,where each library has variety of functions like numpy , math etc. In real world, everywhere we can use python. \n",
            "Let we see a real time example of using python , most ecommerce website will have details about products from various manufacturer websites like HP laptop , specifications are taken from manufacturer website with respective part number. \n",
            "Method called web scrapping, where a code is written in python language and use to take information from respective websites in minutes. \n",
            "It is time saving method rather than copy and paste. Web scrappers will use libraries like BEUATIFULSOUP, SCRAPPY, SELENIUM in python to scarp all required things from various websites automatically. \n",
            "It is majorly used in data science applications , to predict required things like corona virus spreading calculation and stock market prediction. \n",
            "\n",
            "\n",
            "The number of words used in above paragraph is 180\n"
          ]
        }
      ]
    },
    {
      "cell_type": "markdown",
      "source": [
        "### Q14 (Bonus)\n",
        "Tell us anything very interesting. And try asking a very intelligent question."
      ],
      "metadata": {
        "id": "V-EtNtnsMBB9"
      }
    },
    {
      "cell_type": "code",
      "source": [
        "# print your answer\n",
        "\n",
        "my_answer = \"\"\"why .csv format file is using in file handling in python. most places i seen, .csv format followed to store values, \n",
        "like example in real time application means , we can say user registration system , where username and password stored.\"\"\"\n",
        "\n",
        "print(my_answer)"
      ],
      "metadata": {
        "id": "aP3FbDy4MBB-",
        "colab": {
          "base_uri": "https://localhost:8080/"
        },
        "outputId": "546a10d3-38ef-455b-ed9e-8697ba29849b"
      },
      "execution_count": null,
      "outputs": [
        {
          "output_type": "stream",
          "name": "stdout",
          "text": [
            "why .csv format file is using in file handling in python. most places i seen, .csv format followed to store values, \n",
            "like example in real time application means , we can say user registration system , where username and password stored.\n"
          ]
        }
      ]
    },
    {
      "cell_type": "markdown",
      "source": [
        "## Thank you for completing all the questions\n",
        "\n",
        "\n",
        "#### Download your notebook and submit it in the google form"
      ],
      "metadata": {
        "id": "EKwUJmuZMBB-"
      }
    },
    {
      "cell_type": "code",
      "source": [],
      "metadata": {
        "id": "KTavJZuFM474"
      },
      "execution_count": null,
      "outputs": []
    }
  ]
}